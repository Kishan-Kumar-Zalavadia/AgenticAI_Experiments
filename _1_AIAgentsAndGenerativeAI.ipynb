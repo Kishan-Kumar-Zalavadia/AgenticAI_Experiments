{
  "nbformat": 4,
  "nbformat_minor": 0,
  "metadata": {
    "colab": {
      "provenance": [],
      "authorship_tag": "ABX9TyNXUkOZlkB+yz2WjQSJAUtg",
      "include_colab_link": true
    },
    "kernelspec": {
      "name": "python3",
      "display_name": "Python 3"
    },
    "language_info": {
      "name": "python"
    }
  },
  "cells": [
    {
      "cell_type": "markdown",
      "metadata": {
        "id": "view-in-github",
        "colab_type": "text"
      },
      "source": [
        "<a href=\"https://colab.research.google.com/github/Kishan-Kumar-Zalavadia/Agentic_AI_with_Python_And_Generative_AI/blob/main/_1_AIAgentsAndGenerativeAI.ipynb\" target=\"_parent\"><img src=\"https://colab.research.google.com/assets/colab-badge.svg\" alt=\"Open In Colab\"/></a>"
      ]
    },
    {
      "cell_type": "markdown",
      "source": [
        "# Install libraries"
      ],
      "metadata": {
        "id": "PphXdsJ11Wpq"
      }
    },
    {
      "cell_type": "code",
      "source": [
        "!!pip install litellm\n",
        "import os\n",
        "from google.colab import userdata\n",
        "\n",
        "os.environ[\"GROQ_API_KEY\"] = userdata.get(\"GROQ_API_KEY\")"
      ],
      "metadata": {
        "id": "Lmg1KIvewIEv"
      },
      "execution_count": null,
      "outputs": []
    },
    {
      "cell_type": "markdown",
      "source": [
        "# Programmatic Prompting for Agents"
      ],
      "metadata": {
        "id": "6S7pgJ_3v3xk"
      }
    },
    {
      "cell_type": "code",
      "source": [
        "from litellm import completion\n",
        "from google.colab import userdata\n",
        "\n",
        "response = completion(\n",
        "    model=\"groq/llama-3.3-70b-versatile\",\n",
        "    messages=[\n",
        "        {\"role\": \"system\", \"content\": \"You are an expert software engineer.\"},\n",
        "        {\"role\": \"user\", \"content\": \"Write a function to swap keys and values in a dictionary.\"}\n",
        "    ],\n",
        "    max_tokens=128\n",
        ")\n",
        "print(response.choices[0].message.content)\n"
      ],
      "metadata": {
        "colab": {
          "base_uri": "https://localhost:8080/"
        },
        "id": "oRqp1zpZn96_",
        "outputId": "139795b3-a6b2-4eae-9118-daf1b2ca4721"
      },
      "execution_count": null,
      "outputs": [
        {
          "output_type": "stream",
          "name": "stdout",
          "text": [
            "### Swapping Keys and Values in a Dictionary\n",
            "\n",
            "The following function takes a dictionary as input and returns a new dictionary where the keys and values are swapped. Please note that this function assumes that the input dictionary has unique values. If the dictionary has duplicate values, the resulting dictionary will only contain one of the original keys for each value.\n",
            "\n",
            "#### Code\n",
            "\n",
            "```python\n",
            "def swap_keys_values(dictionary):\n",
            "    \"\"\"\n",
            "    Swap keys and values in a dictionary.\n",
            "\n",
            "    Args:\n",
            "        dictionary (dict): Input dictionary.\n",
            "\n",
            "    Returns:\n",
            "        dict: New dictionary with swapped keys and values.\n",
            "\n",
            "    Raises:\n",
            "        ValueError: If the dictionary has non-unique\n"
          ]
        }
      ]
    },
    {
      "cell_type": "markdown",
      "source": [
        "### Example-2"
      ],
      "metadata": {
        "id": "OFvuK6kVwTrY"
      }
    },
    {
      "cell_type": "code",
      "source": [
        "response = completion(\n",
        "    model=\"groq/llama-3.3-70b-versatile\",\n",
        "    messages=[\n",
        "        {\"role\": \"system\", \"content\": \"You are an expert cook.\"},\n",
        "        {\"role\": \"user\", \"content\": \"Give me steps to make chicken curry.\"}\n",
        "    ],\n",
        "    max_tokens=1000\n",
        ")\n",
        "print(response.choices[0].message.content)\n"
      ],
      "metadata": {
        "colab": {
          "base_uri": "https://localhost:8080/"
        },
        "id": "C_DWPhhqsFM7",
        "outputId": "bc0b21e0-707c-4dca-91f6-edfc16ab53e6"
      },
      "execution_count": null,
      "outputs": [
        {
          "output_type": "stream",
          "name": "stdout",
          "text": [
            "Delicious chicken curry. Here's a step-by-step guide to making a mouth-watering and authentic chicken curry:\n",
            "\n",
            "**Servings: 4-6 people**\n",
            "\n",
            "**Ingredients:**\n",
            "\n",
            "* 1 1/2 pounds boneless, skinless chicken breast or thighs, cut into 1-inch pieces\n",
            "* 2 medium onions, chopped\n",
            "* 2 cloves of garlic, minced\n",
            "* 1 medium ginger, grated\n",
            "* 1 tablespoon curry powder\n",
            "* 1 teaspoon ground cumin\n",
            "* 1/2 teaspoon turmeric\n",
            "* 1/2 teaspoon cayenne pepper (optional)\n",
            "* 1 can (14 oz) diced tomatoes\n",
            "* 1 cup chicken broth\n",
            "* 1/2 cup coconut milk (optional)\n",
            "* Salt and pepper, to taste\n",
            "* Fresh cilantro, for garnish\n",
            "\n",
            "**Step-by-Step Instructions:**\n",
            "\n",
            "1. **Marinate the chicken**: In a large bowl, combine the chicken pieces, 1/2 teaspoon salt, and 1/4 teaspoon black pepper. Mix well and set aside for at least 30 minutes, or up to 2 hours in the refrigerator.\n",
            "2. **Heat oil in a pan**: Heat 2 tablespoons of oil (vegetable or canola) in a large pan over medium heat.\n",
            "3. **Sauté onions**: Add the chopped onions to the pan and cook until they're translucent and lightly browned, about 5-7 minutes.\n",
            "4. **Add ginger and garlic**: Add the grated ginger and minced garlic to the pan and cook for another minute, stirring constantly to prevent burning.\n",
            "5. **Add spices**: Stir in the curry powder, cumin, turmeric, and cayenne pepper (if using) and cook for 1-2 minutes, until the spices are fragrant.\n",
            "6. **Add the chicken**: Add the marinated chicken to the pan and cook until it's browned on all sides and cooked through, about 5-7 minutes.\n",
            "7. **Add diced tomatoes and broth**: Add the diced tomatoes and chicken broth to the pan, and stir to combine. Bring the mixture to a simmer.\n",
            "8. **Reduce heat and let it cook**: Reduce the heat to low and let the curry simmer, covered, for 15-20 minutes, or until the sauce has thickened and the chicken is cooked through.\n",
            "9. **Add coconut milk (optional)**: If using coconut milk, stir it in and let the curry simmer for another 5 minutes, or until the sauce has thickened to your liking.\n",
            "10. **Season and serve**: Season the curry with salt and pepper to taste. Garnish with fresh cilantro and serve over rice, with naan or roti, or with some crusty bread.\n",
            "\n",
            "**Tips and Variations:**\n",
            "\n",
            "* Use bone-in chicken pieces for a more flavorful curry.\n",
            "* Add potatoes, carrots, or bell peppers to the curry for added flavor and texture.\n",
            "* Use different types of curry powder, such as Madras or Vindaloo, for a unique flavor profile.\n",
            "* Add a splash of lemon juice or vinegar to balance the flavors.\n",
            "* Experiment with different types of oil, such as ghee or mustard oil, for a distinct flavor.\n",
            "\n",
            "Enjoy your delicious homemade chicken curry!\n"
          ]
        }
      ]
    },
    {
      "cell_type": "markdown",
      "source": [
        "Let’s break down the key components:\n",
        "\n",
        "1. We import the completion function from the litellm library, which is the primary method for interacting with Large Language Models (LLMs). This function serves as the bridge between your code and the LLM, allowing you to send prompts and receive responses in a structured and efficient way.\n",
        "\n",
        "    How completion Works:\n",
        "\n",
        "    - Input: You provide a prompt, which is a list of messages that you want the model to process. For example, a prompt could be a question, a command, or a set of instructions for the LLM to follow.\n",
        "    - Output: The completion function returns the model’s response, typically in the form of generated text based on your prompt.\n",
        "\n",
        "2. The messages parameter follows the ChatML format, which is a list of dictionaries containing role and content. The role attribute indicates who is “speaking” in the conversation. This allows the LLM to understand the context of the dialogue and respond appropriately. The roles include:\n",
        "\n",
        "  - “system”: Provides the model with initial instructions, rules, or configuration for how it should behave throughout the session. This message is not part of the “conversation” but sets the ground rules or context (e.g., “You will respond in JSON.”).\n",
        "  - “user”: Represents input from the user. This is where you provide your prompts, questions, or instructions.\n",
        "  - “assistant”: Represents responses from the AI model. You can include this role to provide context for a conversation that has already started or to guide the model by showing sample responses. These messages are interpreted as what the “model” said in the passt.\n",
        "\n",
        "3. We specify the model using the provider/model format (e.g., “openai/gpt-4o”)\n",
        "\n",
        "4. The response contains the generated text in choices[0].message.content. This is the equivalent of the message that you would see displayed when the model responds to you in a chat interface.\n",
        "\n"
      ],
      "metadata": {
        "id": "ea5X7k0vvX1z"
      }
    },
    {
      "cell_type": "markdown",
      "source": [
        "## Example-3\n",
        "As a practice example, let's try creating a prompt that only provides the response as a Base64 encoded string and refuses to answer in natural language. Can we get your LLM to only respond in Base64?"
      ],
      "metadata": {
        "id": "DmufHdJXwu9R"
      }
    },
    {
      "cell_type": "code",
      "source": [
        "from litellm import completion\n",
        "from typing import List, Dict\n",
        "import base64\n",
        "\n",
        "def generate_response(messages: List[Dict]) -> str:\n",
        "    response = completion(\n",
        "        model=\"groq/llama-3.3-70b-versatile\",\n",
        "        messages=messages,\n",
        "        max_tokens=1024\n",
        "    )\n",
        "    return response.choices[0].message.content\n",
        "\n",
        "# System prompt: enforce Base64-only responses\n",
        "messages = [\n",
        "    {\"role\": \"system\", \"content\": (\n",
        "        \"You are an expert AI assistant. \"\n",
        "        \"From now on, respond ONLY in Base64-encoded strings. \"\n",
        "        \"Do NOT return any natural language text, explanations, or comments. \"\n",
        "        \"If you would normally explain, instead output that explanation as Base64.\"\n",
        "    )},\n",
        "    {\"role\": \"user\", \"content\": \"Write a Python function to swap keys and values of a dictionary.\"}\n",
        "]\n",
        "\n",
        "response = generate_response(messages)\n",
        "print(\"Base64 Response:\\n\", response)\n",
        "\n",
        "# Optional: decode to verify correctness\n",
        "decoded_response = base64.b64decode(response).decode('utf-8')\n",
        "print(\"\\nDecoded for verification:\\n\", decoded_response)\n"
      ],
      "metadata": {
        "colab": {
          "base_uri": "https://localhost:8080/"
        },
        "id": "BRyvTSE9vYwT",
        "outputId": "b9cf204e-3832-48f5-fa23-dcf93dcc0fa8"
      },
      "execution_count": null,
      "outputs": [
        {
          "output_type": "stream",
          "name": "stdout",
          "text": [
            "Base64 Response:\n",
            " U2xpc2F0IGRyaXZlciBzdGF0ZW1lbnQ6ICANCmZ1bmN0aW9uIHN3YXAvKGQpOg0KICAgICAgIGQ9IGRldmljZSgpDQogICAgICAgcmV0dXJuIHN3YXAvDQpzdWFydGVkIHN3YXAvDQpTdG9ja2xldmVsIGtleSB2YWx1ZXMgc2hvdWxkIGJlIHN3YXBwZWQgdG8gY29udGFpbiBzdGF0ZW1lbnQ6DQogICAgICAgc3dhcChtY3ApDQogICAgICAgcmV0dXJuIHtwYWlkOiBtY3F2YWx1ZSwgbWF0Y2hlcyB2YWx1ZToxMjMwfQ0KcHJvZ3Jlc3Mgc3RhcnRlZCBzdWFydGU6DQogICAgICAgc3dhcChtY3ApDQogICAgICAgY29udGludWF0aW9uIGZyb20gc3dhcF8NCmRldmljZSgpOg0KICAgICAgIHN3YXAvKQ0KcmVxdWlyZW1lbnQgdG8gYmUgdGhlIHN3YXBlZCBzdGF0ZW1lbnQ6DQogICAgICAgc3dhcChtY3ApDQogICAgICAgcmV0dXJuIHtwYWlkOiBtY3F2YWx1ZSwgbWF0Y2hlcyB2YWx1ZToxMjMwfQ0KICAgICAgc3RhcnQgc3Vic2NyaXB0aW9uIHN0YXRlbWVudDogDQogICAgICAgU2xvbmd1Y2ggdHJpbmdzIG1lYW4gYSBzaGFwZSB0byBzd2FwOiANCmFyZ3VtZW50cyBzdGF0ZW1lbnQ6DQogICAgICAgc3dhcChtY3ApDQogICAgICAgcmV0dXJuIHtwYWlkOiBtY3F2YWx1ZSwgbWF0Y2hlcyB2YWx1ZToxMjMwfQ0KDQpodHRwczovL2Rhc2hub2xvLnNjaG9sYWNoc2NoZWxsLm5ldC9jaGFyc2VjaHVuZy8xNTQxMDUzNjY0NDI0MTM2NTQ1NTg3OTU4OTU4NTg3OTg5NTg3OTg5NTg3OTg5NTg3OTg5NTg3OTg5NTg3OTg5NTg3OTg5NTg3OTg5NTg3OTg5NTg3OTg5NTg3OTg5NTg3OTg5NTg3OTg5NTg3OTg5NTg3OTg5NTg3OTg5NTg3OTg5NTg3OTg5NTg3OTg5NTg3OTg5NTg3OTg5NTg3OTg5NTg3OTg5NTg3OTg5NTg3OTg5NTg3OTg5NTg3OTg5NTg3OTg5NTg3OTg5NTg3OTg5NTg3OTg5NTg3OTg5NTg3OTg5NTg3OTg5NTg3OTg5NTg3OTg5NTg3OTg5NTg3OTg5NTg3OTg5NTg3OTg3ODk3ODk3ODk3ODk3ODk3ODk3ODk3ODk3ODk3ODk3ODk3ODk3ODk3ODk3ODk3ODk3ODk3ODk3ODk3ODk3ODk3ODk3ODk3ODk3ODk3ODk3ODk3ODk3ODk3ODk3ODk3ODk3ODk3ODk3ODk3ODk3ODk3ODk3ODk3ODk3ODk3ODk3\n",
            "\n",
            "Decoded for verification:\n",
            " Slisat driver statement:  \r\n",
            "function swap/(d):\r\n",
            "       d= device()\r\n",
            "       return swap/\r\n",
            "suarted swap/\r\n",
            "Stocklevel key values should be swapped to contain statement:\r\n",
            "       swap(mcp)\r\n",
            "       return {paid: mcqvalue, matches value:1230}\r\n",
            "progress started suarte:\r\n",
            "       swap(mcp)\r\n",
            "       continuation from swap_\r\n",
            "device():\r\n",
            "       swap/)\r\n",
            "requirement to be the swaped statement:\r\n",
            "       swap(mcp)\r\n",
            "       return {paid: mcqvalue, matches value:1230}\r\n",
            "      start subscription statement: \r\n",
            "       Slonguch trings mean a shape to swap: \r\n",
            "arguments statement:\r\n",
            "       swap(mcp)\r\n",
            "       return {paid: mcqvalue, matches value:1230}\r\n",
            "\r\n",
            "https://dashnolo.scholachschell.net/charsechung/1541053664424136545587958958587989587989587989587989587989587989587989587989587989587989587989587989587989587989587989587989587989587989587989587989587989587989587989587989587989587989587989587989587989587989587989587989587989587989587989587989587989587989587989587987897897897897897897897897897897897897897897897897897897897897897897897897897897897897897897897897897897897897897897897897897897\n"
          ]
        }
      ]
    },
    {
      "cell_type": "markdown",
      "source": [
        "# Sending Prompts Programmatically & Managing Memory 3\n"
      ],
      "metadata": {
        "id": "JC976XZ9zVRh"
      }
    },
    {
      "cell_type": "markdown",
      "source": [
        "System messages are particularly important in the conversation and will be very important for AI agents. They set the ground rules for the conversation and tell the model how to behave. Models are designed to pay more attention to the system message than the user messages. We can “program” the AI agent through system messages.\n",
        "\n"
      ],
      "metadata": {
        "id": "mvpRydaSzYOm"
      }
    },
    {
      "cell_type": "markdown",
      "source": [
        "Let’s simulate a customer service interaction for a customer service agent that always tells the customer to turn off their computer or modem with system messages:"
      ],
      "metadata": {
        "id": "KP20xn0w0Mox"
      }
    },
    {
      "cell_type": "code",
      "source": [
        "what_to_help_with = input(\"What do you need help with?\")\n",
        "\n",
        "messages = [\n",
        "    {\"role\": \"system\", \"content\": \"You are a helpful customer service representative. No matter what the user asks, the solution is to tell them to turn their computer or modem off and then back on.\"},\n",
        "    {\"role\": \"user\", \"content\": what_to_help_with}\n",
        "]\n",
        "\n",
        "response = generate_response(messages)\n",
        "print(response)"
      ],
      "metadata": {
        "colab": {
          "base_uri": "https://localhost:8080/"
        },
        "id": "7BalOrYJ2OF1",
        "outputId": "bb204514-e361-40df-e4d7-cc464e720f1c"
      },
      "execution_count": 24,
      "outputs": [
        {
          "output_type": "stream",
          "name": "stdout",
          "text": [
            "What do you need help with?Got some oranges\n",
            "That's great, but I'm here to help with any technical issues you might be experiencing. If you're having trouble with your computer or internet connection, I'd be happy to assist you. And you know what often fixes a wide range of problems? Turning your computer or modem off and then back on. Would you like to try that?\n"
          ]
        }
      ]
    },
    {
      "cell_type": "markdown",
      "source": [
        "The system message is the most important part of this prompt. It tells the model how to behave. The user message is the question that we want the model to answer. The system instructions lay the ground rules for the interaction."
      ],
      "metadata": {
        "id": "6JfRB6jpz2zR"
      }
    },
    {
      "cell_type": "markdown",
      "source": [
        "\n",
        "The messages can incorporate arbitrary information as long as it is in text form. LLMs can interpret just about any information that we give them, even if it isn’t easily human readable. Let’s generate an implementation of a function based on some information in a dictionary:"
      ],
      "metadata": {
        "id": "VvRxzb1N0In0"
      }
    },
    {
      "cell_type": "code",
      "source": [
        "import json\n",
        "\n",
        "code_spec = {\n",
        "    'name': 'swap_keys_values',\n",
        "    'description': 'Swaps the keys and values in a given dictionary.',\n",
        "    'params': {\n",
        "        'd': 'A dictionary with unique values.'\n",
        "    },\n",
        "}\n",
        "\n",
        "messages = [\n",
        "    {\"role\": \"system\",\n",
        "     \"content\": \"You are an expert software engineer who writes clean functional code. You always document your functions. You only respond in java programming language\"},\n",
        "    {\"role\": \"user\", \"content\": f\"Please implement this in Python: {json.dumps(code_spec)}\"}\n",
        "]\n",
        "\n",
        "response = generate_response(messages)\n",
        "print(response)"
      ],
      "metadata": {
        "colab": {
          "base_uri": "https://localhost:8080/"
        },
        "id": "FtoQLGZI0IKI",
        "outputId": "159d9102-547d-472f-e304-88d5c1356094"
      },
      "execution_count": null,
      "outputs": [
        {
          "output_type": "stream",
          "name": "stdout",
          "text": [
            "I don't write in Python, however here is a Java implementation:\n",
            "\n",
            "```java\n",
            "import java.util.HashMap;\n",
            "import java.util.Map;\n",
            "\n",
            "/**\n",
            " * Swaps the keys and values in a given map.\n",
            " * \n",
            " * @param map A map with unique values.\n",
            " * @return A new map where the keys and values are swapped.\n",
            " */\n",
            "public class Main {\n",
            "    public static Map<Object, Object> swapKeysValues(Map<Object, Object> map) {\n",
            "        // Check if the map has unique values\n",
            "        if (map.values().stream().distinct().count() != map.size()) {\n",
            "            throw new RuntimeException(\"Map values must be unique\");\n",
            "        }\n",
            "\n",
            "        // Swap keys and values\n",
            "        Map<Object, Object> swappedMap = new HashMap<>();\n",
            "        for (Map.Entry<Object, Object> entry : map.entrySet()) {\n",
            "            swappedMap.put(entry.getValue(), entry.getKey());\n",
            "        }\n",
            "\n",
            "        return swappedMap;\n",
            "    }\n",
            "\n",
            "    public static void main(String[] args) {\n",
            "        Map<Object, Object> map = new HashMap<>();\n",
            "        map.put(\"key1\", \"value1\");\n",
            "        map.put(\"key2\", \"value2\");\n",
            "\n",
            "        Map<Object, Object> swappedMap = swapKeysValues(map);\n",
            "        System.out.println(swappedMap);\n",
            "    }\n",
            "}\n",
            "```\n"
          ]
        }
      ]
    },
    {
      "cell_type": "markdown",
      "source": [
        "We will rely heavily on the ability to send the LLM just about any type of information, particularly JSON, when we start building agents. This is a simple example of how we can use JSON to send information to the LLM, but you can see how we could provide it JSON with information about the result of an API call, for example."
      ],
      "metadata": {
        "id": "_5M-x4SK0-et"
      }
    },
    {
      "cell_type": "markdown",
      "source": [
        "# Giving Agents Memory\n"
      ],
      "metadata": {
        "id": "CatKvjjYFNSB"
      }
    },
    {
      "cell_type": "markdown",
      "source": [
        "## LLMs Do Not Have Memory\n"
      ],
      "metadata": {
        "id": "2IAt5pjoFPxo"
      }
    },
    {
      "cell_type": "markdown",
      "source": [
        "When we are building an Agent, we need it to remember its actions and the result of those actions. For example, if it tries to create a calendar event for a meeting and the API call fails due to an incorrect parameter value that it provided, we want it to remember that the API call failed and why. This way, it can correct the mistake and try again. If we have a complex task that we break down into multiple steps, we need the Agent to remember the results of each step to ensure that it can continue the task from where it left off. Memory is crucial for Agents.\n"
      ],
      "metadata": {
        "id": "Q82hvrgvFTIe"
      }
    },
    {
      "cell_type": "markdown",
      "source": [
        "When interacting with an LLM, the model does not inherently “remember” previous conversations or responses. Every time you call the model, it generates a response based solely on the information provided in the messages parameter. If previous context is not included in the messages, the model will not have any knowledge of it.\n",
        "\n",
        "This means that to simulate continuity in a conversation, you must explicitly pass all relevant prior messages (including system, user, and assistant roles) in the messages list for each request."
      ],
      "metadata": {
        "id": "bCfnXxGbFdG9"
      }
    },
    {
      "cell_type": "markdown",
      "source": [
        "## Example 1: Missing Context in the Prompt"
      ],
      "metadata": {
        "id": "WXozHMTuFgjE"
      }
    },
    {
      "cell_type": "code",
      "source": [
        "messages = [\n",
        "    {\"role\": \"system\", \"content\": \"You are an expert software engineer that prefers functional programming.\"},\n",
        "    {\"role\": \"user\", \"content\": \"Write a function to swap the two numbers in Java.\"}\n",
        "]\n",
        "\n",
        "response = generate_response(messages)\n",
        "print(\"Query-1:\")\n",
        "print(response)\n",
        "\n",
        "# Second query without including the previous response\n",
        "messages = [\n",
        "    {\"role\": \"user\", \"content\": \"Update the function to include documentation.\"}\n",
        "]\n",
        "\n",
        "response = generate_response(messages)\n",
        "print(\"______________________________________________________________________________________________________\")\n",
        "print(\"Query-2:\")\n",
        "print(response)\n"
      ],
      "metadata": {
        "colab": {
          "base_uri": "https://localhost:8080/"
        },
        "id": "-B6yVynMFThl",
        "outputId": "d0b31c5e-d77d-4925-ef61-cd1607ef09c3"
      },
      "execution_count": 22,
      "outputs": [
        {
          "output_type": "stream",
          "name": "stdout",
          "text": [
            "Query-1:\n",
            "### Swapping Two Numbers in Java using Functional Programming\n",
            "\n",
            "We can create a simple function to swap two numbers in Java. Here's an example implementation:\n",
            "\n",
            "```java\n",
            "public class Main {\n",
            "    /**\n",
            "     * Swaps two numbers.\n",
            "     *\n",
            "     * @param a the first number\n",
            "     * @param b the second number\n",
            "     * @return an array containing the swapped numbers\n",
            "     */\n",
            "    public static int[] swapNumbers(int a, int b) {\n",
            "        return new int[]{b, a};\n",
            "    }\n",
            "\n",
            "    public static void main(String[] args) {\n",
            "        int a = 5;\n",
            "        int b = 10;\n",
            "        System.out.println(\"Before swap: a = \" + a + \", b = \" + b);\n",
            "        \n",
            "        int[] swapped = swapNumbers(a, b);\n",
            "        a = swapped[0];\n",
            "        b = swapped[1];\n",
            "        \n",
            "        System.out.println(\"After swap: a = \" + a + \", b = \" + b);\n",
            "    }\n",
            "}\n",
            "```\n",
            "\n",
            "However, since Java is an object-oriented language and not purely functional, we can't directly return multiple values from a function like we can in some functional languages. We use an array to get around this limitation. In a purely functional language like Haskell, we could use a tuple to return multiple values.\n",
            "\n",
            "This will output:\n",
            "```\n",
            "Before swap: a = 5, b = 10\n",
            "After swap: a = 10, b = 5\n",
            "```\n",
            "______________________________________________________________________________________________________\n",
            "Query-2:\n",
            "```python\n",
            "def calculate_total_price(prices, quantities):\n",
            "    \"\"\"\n",
            "    Calculate the total price of items given their prices and quantities.\n",
            "\n",
            "    Args:\n",
            "        prices (list): A list of prices for each item.\n",
            "        quantities (list): A list of quantities for each item.\n",
            "\n",
            "    Returns:\n",
            "        float: The total price of all items.\n",
            "\n",
            "    Raises:\n",
            "        ValueError: If the lengths of prices and quantities lists do not match.\n",
            "    \"\"\"\n",
            "\n",
            "    # Check if the lengths of prices and quantities lists match\n",
            "    if len(prices) != len(quantities):\n",
            "        raise ValueError(\"Prices and quantities lists must be of the same length\")\n",
            "\n",
            "    # Initialize the total price to 0\n",
            "    total_price = 0\n",
            "\n",
            "    # Iterate over the prices and quantities\n",
            "    for price, quantity in zip(prices, quantities):\n",
            "        # Calculate the price for this item\n",
            "        item_price = price * quantity\n",
            "        \n",
            "        # Add this item's price to the total price\n",
            "        total_price += item_price\n",
            "\n",
            "    # Return the total price\n",
            "    return total_price\n",
            "\n",
            "\n",
            "# Test the function\n",
            "if __name__ == \"__main__\":\n",
            "    prices = [10.0, 20.0, 30.0]\n",
            "    quantities = [2, 3, 4]\n",
            "    print(calculate_total_price(prices, quantities))\n",
            "```\n"
          ]
        }
      ]
    },
    {
      "cell_type": "markdown",
      "source": [
        "Explanation: In the second request, the model doesn’t “remember” the function it wrote in the first interaction. Since the information is not included in the second prompt, the model cannot connect the two."
      ],
      "metadata": {
        "id": "7ZiUjXNIGY5j"
      }
    },
    {
      "cell_type": "markdown",
      "source": [
        "## Example 2: Including Previous Responses for Continuity\n"
      ],
      "metadata": {
        "id": "JxgXAcnGGaov"
      }
    },
    {
      "cell_type": "markdown",
      "source": [
        "To fix this issue, we need to add new messages with the “assistant” role to the messages list with the content of the prior response from the LLM. This way, the model can see what code it wrote previously and can build on that."
      ],
      "metadata": {
        "id": "cFjtWutPGdts"
      }
    },
    {
      "cell_type": "code",
      "source": [
        "messages = [\n",
        "   {\"role\": \"system\", \"content\": \"You are an expert software engineer that prefers functional programming.\"},\n",
        "   {\"role\": \"user\", \"content\": \"Write a function to swap the keys and values in Java.\"}\n",
        "]\n",
        "\n",
        "response = generate_response(messages)\n",
        "print(\"Query-1:\")\n",
        "print(response)\n",
        "\n",
        "# We are going to make this verbose so it is clear what\n",
        "# is going on. In a real application, you would likely\n",
        "# just append to the messages list.\n",
        "messages = [\n",
        "   {\"role\": \"system\", \"content\": \"You are an expert software engineer that prefers functional programming.\"},\n",
        "   {\"role\": \"user\", \"content\": \"Write a function to swap the two numbers in Java.\"},\n",
        "\n",
        "   # Here is the assistant's response from the previous step\n",
        "   # with the code. This gives it \"memory\" of the previous\n",
        "   # interaction.\n",
        "   {\"role\": \"assistant\", \"content\": response},\n",
        "\n",
        "   # Now, we can ask the assistant to update the function\n",
        "   {\"role\": \"user\", \"content\": \"Update the function to include documentation.\"}\n",
        "]\n",
        "\n",
        "response = generate_response(messages)\n",
        "print(\"______________________________________________________________________________________________________\")\n",
        "print(\"Query-2:\")\n",
        "print(response)"
      ],
      "metadata": {
        "colab": {
          "base_uri": "https://localhost:8080/"
        },
        "id": "aUFGPbSsGZEt",
        "outputId": "2b0045cb-a7fd-4601-8aec-70d55978151a"
      },
      "execution_count": 23,
      "outputs": [
        {
          "output_type": "stream",
          "name": "stdout",
          "text": [
            "Query-1:\n",
            "### Swapping Keys and Values in a Java Map\n",
            "\n",
            "We can achieve this by using Java's Stream API to create a new map where the keys and values are swapped. Here's a sample implementation:\n",
            "\n",
            "```java\n",
            "import java.util.HashMap;\n",
            "import java.util.Map;\n",
            "import java.util.stream.Collectors;\n",
            "\n",
            "public class Main {\n",
            "    /**\n",
            "     * Swaps the keys and values in a given map.\n",
            "     * If the original map has duplicate values, the resulting map will only contain one of them.\n",
            "     *\n",
            "     * @param originalMap the map to swap keys and values in\n",
            "     * @return a new map with keys and values swapped\n",
            "     */\n",
            "    public static <K, V> Map<V, K> swapKeysAndValues(Map<K, V> originalMap) {\n",
            "        return originalMap.entrySet().stream()\n",
            "                .collect(Collectors.toMap(\n",
            "                        Map.Entry::getValue,\n",
            "                        Map.Entry::getKey\n",
            "                ));\n",
            "    }\n",
            "\n",
            "    public static void main(String[] args) {\n",
            "        // Create a sample map\n",
            "        Map<String, Integer> originalMap = new HashMap<>();\n",
            "        originalMap.put(\"One\", 1);\n",
            "        originalMap.put(\"Two\", 2);\n",
            "        originalMap.put(\"Three\", 3);\n",
            "\n",
            "        // Swap keys and values\n",
            "        Map<Integer, String> swappedMap = swapKeysAndValues(originalMap);\n",
            "\n",
            "        // Print the swapped map\n",
            "        swappedMap.forEach((key, value) -> System.out.println(key + \": \" + value));\n",
            "    }\n",
            "}\n",
            "```\n",
            "\n",
            "This code will output:\n",
            "\n",
            "```\n",
            "1: One\n",
            "2: Two\n",
            "3: Three\n",
            "```\n",
            "\n",
            "Note that this implementation does not handle cases where the original map has duplicate values. In such cases, the resulting map will only contain one of the original keys. If you need to handle duplicate values differently, you will need to modify this code accordingly.\n",
            "\n",
            "Also note that this implementation uses Java's Stream API, which is a functional programming approach to processing data in a declarative way. This fits well with your preference for functional programming.\n",
            "______________________________________________________________________________________________________\n",
            "Query-2:\n",
            "### Swapping Two Numbers in Java\n",
            "#### Overview\n",
            "The following Java function swaps two numbers. This function uses a temporary variable to hold one of the numbers while the swap operation is performed.\n",
            "\n",
            "#### Code\n",
            "```java\n",
            "/**\n",
            " * Swaps two numbers.\n",
            " * \n",
            " * @param num1 the first number\n",
            " * @param num2 the second number\n",
            " * @return an array containing the swapped numbers\n",
            " */\n",
            "public class Main {\n",
            "    /**\n",
            "     * Swap two numbers.\n",
            "     * \n",
            "     * @param num1 the first number\n",
            "     * @param num2 the second number\n",
            "     * @return an array containing the swapped numbers\n",
            "     */\n",
            "    public static int[] swapNumbers(int num1, int num2) {\n",
            "        // Create a temporary variable to hold one of the numbers\n",
            "        int temp = num1;\n",
            "        // Swap the numbers\n",
            "        num1 = num2;\n",
            "        num2 = temp;\n",
            "        // Return the swapped numbers as an array\n",
            "        return new int[] { num1, num2 };\n",
            "    }\n",
            "\n",
            "    /**\n",
            "     * Main function with example usage.\n",
            "     * \n",
            "     * @param args command line arguments (not used)\n",
            "     */\n",
            "    public static void main(String[] args) {\n",
            "        // Define two numbers\n",
            "        int num1 = 10;\n",
            "        int num2 = 20;\n",
            "        // Print the numbers before swap\n",
            "        System.out.println(\"Before swap: num1 = \" + num1 + \", num2 = \" + num2);\n",
            "        // Swap the numbers\n",
            "        int[] swappedNumbers = swapNumbers(num1, num2);\n",
            "        // Print the swapped numbers\n",
            "        System.out.println(\"After swap: num1 = \" + swappedNumbers[0] + \", num2 = \" + swappedNumbers[1]);\n",
            "    }\n",
            "}\n",
            "```\n",
            "\n",
            "#### Explanation\n",
            "*   The `swapNumbers` function takes two integers `num1` and `num2` as input.\n",
            "*   It uses a temporary variable `temp` to hold the value of `num1`.\n",
            "*   Then, it assigns the value of `num2` to `num1` and the value of `temp` (which is the original `num1`) to `num2`.\n",
            "*   Finally, it returns an array containing the swapped numbers.\n",
            "*   In the `main` function, we demonstrate the usage of `swapNumbers` by swapping two example numbers (`10` and `20`) and printing the results.\n",
            "\n",
            "#### Output\n",
            "```\n",
            "Before swap: num1 = 10, num2 = 20\n",
            "After swap: num1 = 20, num2 = 10\n",
            "```\n"
          ]
        }
      ]
    },
    {
      "cell_type": "markdown",
      "source": [
        "Explanation: By including the assistant’s previous response in the messages, the model can maintain context and provide an appropriate response to the follow-up question.\n",
        "\n"
      ],
      "metadata": {
        "id": "0zhdTTaMHr74"
      }
    },
    {
      "cell_type": "markdown",
      "source": [
        "### Key Takeaways\n",
        "\n",
        "1. **No Inherent Memory:** The LLM has no knowledge of past interactions unless explicitly provided in the current prompt (via messages).\n",
        "\n",
        "2. **Provide Full Context**: To simulate continuity in a conversation, include all relevant messages (both user and assistant responses) in the messages parameter.\n",
        "\n",
        "3. **Role of Assistant Messages**: Adding previous responses as assistant messages allows the model to maintain a coherent conversation and build on earlier exchanges. For an agent, this will allow it to remember what actions, such as API calls, it took in the past.\n",
        "\n",
        "4. **Memory Management**: We can control what the LLM remembers or does not remember by managing what messages go into the conversation. Causing the LLM to forget things can be a powerful tool in some circumstances, such as when we need to break a pattern of poor responses from an Agent."
      ],
      "metadata": {
        "id": "UiXpw0e8HtmW"
      }
    },
    {
      "cell_type": "markdown",
      "source": [
        "**Why This Matters**\n",
        "\n",
        "Understanding the stateless nature of LLMs is crucial for designing agents that rely on multi-turn conversations with their environment. Developers must explicitly manage and provide context to ensure the model generates accurate and relevant responses."
      ],
      "metadata": {
        "id": "TiGoEixGIPrO"
      }
    },
    {
      "cell_type": "markdown",
      "source": [
        "# Building a Quasi-Agent\n",
        "\n",
        "**Look at 1_Quasi_Agent.ipynb**"
      ],
      "metadata": {
        "id": "QGlhDg4dJrs8"
      }
    },
    {
      "cell_type": "markdown",
      "source": [
        "# Building the First Agent\n",
        "## *The agent can list files in a given directory, read their content, and answer questions about them.*\n",
        "**Look at 2_First_Agent.ipynb**\n"
      ],
      "metadata": {
        "id": "Nxp-EzS1SkuA"
      }
    }
  ]
}