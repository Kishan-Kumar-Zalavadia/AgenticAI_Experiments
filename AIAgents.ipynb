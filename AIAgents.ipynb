{
  "nbformat": 4,
  "nbformat_minor": 0,
  "metadata": {
    "colab": {
      "provenance": [],
      "authorship_tag": "ABX9TyM/Xx35tcXcL/hC1Is0n58E",
      "include_colab_link": true
    },
    "kernelspec": {
      "name": "python3",
      "display_name": "Python 3"
    },
    "language_info": {
      "name": "python"
    }
  },
  "cells": [
    {
      "cell_type": "markdown",
      "metadata": {
        "id": "view-in-github",
        "colab_type": "text"
      },
      "source": [
        "<a href=\"https://colab.research.google.com/github/Kishan-Kumar-Zalavadia/AgenticAI_Experiments/blob/main/AIAgents.ipynb\" target=\"_parent\"><img src=\"https://colab.research.google.com/assets/colab-badge.svg\" alt=\"Open In Colab\"/></a>"
      ]
    },
    {
      "cell_type": "code",
      "source": [
        "!!pip install litellm"
      ],
      "metadata": {
        "colab": {
          "base_uri": "https://localhost:8080/"
        },
        "id": "RCjVaLHXoMje",
        "outputId": "68442e90-c9cb-4e93-85d2-2809d2512b11"
      },
      "execution_count": 8,
      "outputs": [
        {
          "output_type": "execute_result",
          "data": {
            "text/plain": [
              "['Requirement already satisfied: litellm in /usr/local/lib/python3.12/dist-packages (1.78.2)',\n",
              " 'Requirement already satisfied: aiohttp>=3.10 in /usr/local/lib/python3.12/dist-packages (from litellm) (3.13.0)',\n",
              " 'Requirement already satisfied: click in /usr/local/lib/python3.12/dist-packages (from litellm) (8.3.0)',\n",
              " 'Requirement already satisfied: fastuuid>=0.13.0 in /usr/local/lib/python3.12/dist-packages (from litellm) (0.13.5)',\n",
              " 'Requirement already satisfied: httpx>=0.23.0 in /usr/local/lib/python3.12/dist-packages (from litellm) (0.28.1)',\n",
              " 'Requirement already satisfied: importlib-metadata>=6.8.0 in /usr/local/lib/python3.12/dist-packages (from litellm) (8.7.0)',\n",
              " 'Requirement already satisfied: jinja2<4.0.0,>=3.1.2 in /usr/local/lib/python3.12/dist-packages (from litellm) (3.1.6)',\n",
              " 'Requirement already satisfied: jsonschema<5.0.0,>=4.22.0 in /usr/local/lib/python3.12/dist-packages (from litellm) (4.25.1)',\n",
              " 'Requirement already satisfied: openai>=1.99.5 in /usr/local/lib/python3.12/dist-packages (from litellm) (1.109.1)',\n",
              " 'Requirement already satisfied: pydantic<3.0.0,>=2.5.0 in /usr/local/lib/python3.12/dist-packages (from litellm) (2.11.10)',\n",
              " 'Requirement already satisfied: python-dotenv>=0.2.0 in /usr/local/lib/python3.12/dist-packages (from litellm) (1.1.1)',\n",
              " 'Requirement already satisfied: tiktoken>=0.7.0 in /usr/local/lib/python3.12/dist-packages (from litellm) (0.12.0)',\n",
              " 'Requirement already satisfied: tokenizers in /usr/local/lib/python3.12/dist-packages (from litellm) (0.22.1)',\n",
              " 'Requirement already satisfied: aiohappyeyeballs>=2.5.0 in /usr/local/lib/python3.12/dist-packages (from aiohttp>=3.10->litellm) (2.6.1)',\n",
              " 'Requirement already satisfied: aiosignal>=1.4.0 in /usr/local/lib/python3.12/dist-packages (from aiohttp>=3.10->litellm) (1.4.0)',\n",
              " 'Requirement already satisfied: attrs>=17.3.0 in /usr/local/lib/python3.12/dist-packages (from aiohttp>=3.10->litellm) (25.4.0)',\n",
              " 'Requirement already satisfied: frozenlist>=1.1.1 in /usr/local/lib/python3.12/dist-packages (from aiohttp>=3.10->litellm) (1.8.0)',\n",
              " 'Requirement already satisfied: multidict<7.0,>=4.5 in /usr/local/lib/python3.12/dist-packages (from aiohttp>=3.10->litellm) (6.7.0)',\n",
              " 'Requirement already satisfied: propcache>=0.2.0 in /usr/local/lib/python3.12/dist-packages (from aiohttp>=3.10->litellm) (0.3.2)',\n",
              " 'Requirement already satisfied: yarl<2.0,>=1.17.0 in /usr/local/lib/python3.12/dist-packages (from aiohttp>=3.10->litellm) (1.22.0)',\n",
              " 'Requirement already satisfied: anyio in /usr/local/lib/python3.12/dist-packages (from httpx>=0.23.0->litellm) (4.11.0)',\n",
              " 'Requirement already satisfied: certifi in /usr/local/lib/python3.12/dist-packages (from httpx>=0.23.0->litellm) (2025.10.5)',\n",
              " 'Requirement already satisfied: httpcore==1.* in /usr/local/lib/python3.12/dist-packages (from httpx>=0.23.0->litellm) (1.0.9)',\n",
              " 'Requirement already satisfied: idna in /usr/local/lib/python3.12/dist-packages (from httpx>=0.23.0->litellm) (3.10)',\n",
              " 'Requirement already satisfied: h11>=0.16 in /usr/local/lib/python3.12/dist-packages (from httpcore==1.*->httpx>=0.23.0->litellm) (0.16.0)',\n",
              " 'Requirement already satisfied: zipp>=3.20 in /usr/local/lib/python3.12/dist-packages (from importlib-metadata>=6.8.0->litellm) (3.23.0)',\n",
              " 'Requirement already satisfied: MarkupSafe>=2.0 in /usr/local/lib/python3.12/dist-packages (from jinja2<4.0.0,>=3.1.2->litellm) (3.0.3)',\n",
              " 'Requirement already satisfied: jsonschema-specifications>=2023.03.6 in /usr/local/lib/python3.12/dist-packages (from jsonschema<5.0.0,>=4.22.0->litellm) (2025.9.1)',\n",
              " 'Requirement already satisfied: referencing>=0.28.4 in /usr/local/lib/python3.12/dist-packages (from jsonschema<5.0.0,>=4.22.0->litellm) (0.36.2)',\n",
              " 'Requirement already satisfied: rpds-py>=0.7.1 in /usr/local/lib/python3.12/dist-packages (from jsonschema<5.0.0,>=4.22.0->litellm) (0.27.1)',\n",
              " 'Requirement already satisfied: distro<2,>=1.7.0 in /usr/local/lib/python3.12/dist-packages (from openai>=1.99.5->litellm) (1.9.0)',\n",
              " 'Requirement already satisfied: jiter<1,>=0.4.0 in /usr/local/lib/python3.12/dist-packages (from openai>=1.99.5->litellm) (0.11.0)',\n",
              " 'Requirement already satisfied: sniffio in /usr/local/lib/python3.12/dist-packages (from openai>=1.99.5->litellm) (1.3.1)',\n",
              " 'Requirement already satisfied: tqdm>4 in /usr/local/lib/python3.12/dist-packages (from openai>=1.99.5->litellm) (4.67.1)',\n",
              " 'Requirement already satisfied: typing-extensions<5,>=4.11 in /usr/local/lib/python3.12/dist-packages (from openai>=1.99.5->litellm) (4.15.0)',\n",
              " 'Requirement already satisfied: annotated-types>=0.6.0 in /usr/local/lib/python3.12/dist-packages (from pydantic<3.0.0,>=2.5.0->litellm) (0.7.0)',\n",
              " 'Requirement already satisfied: pydantic-core==2.33.2 in /usr/local/lib/python3.12/dist-packages (from pydantic<3.0.0,>=2.5.0->litellm) (2.33.2)',\n",
              " 'Requirement already satisfied: typing-inspection>=0.4.0 in /usr/local/lib/python3.12/dist-packages (from pydantic<3.0.0,>=2.5.0->litellm) (0.4.2)',\n",
              " 'Requirement already satisfied: regex>=2022.1.18 in /usr/local/lib/python3.12/dist-packages (from tiktoken>=0.7.0->litellm) (2024.11.6)',\n",
              " 'Requirement already satisfied: requests>=2.26.0 in /usr/local/lib/python3.12/dist-packages (from tiktoken>=0.7.0->litellm) (2.32.4)',\n",
              " 'Requirement already satisfied: huggingface-hub<2.0,>=0.16.4 in /usr/local/lib/python3.12/dist-packages (from tokenizers->litellm) (0.35.3)',\n",
              " 'Requirement already satisfied: filelock in /usr/local/lib/python3.12/dist-packages (from huggingface-hub<2.0,>=0.16.4->tokenizers->litellm) (3.20.0)',\n",
              " 'Requirement already satisfied: fsspec>=2023.5.0 in /usr/local/lib/python3.12/dist-packages (from huggingface-hub<2.0,>=0.16.4->tokenizers->litellm) (2025.3.0)',\n",
              " 'Requirement already satisfied: packaging>=20.9 in /usr/local/lib/python3.12/dist-packages (from huggingface-hub<2.0,>=0.16.4->tokenizers->litellm) (25.0)',\n",
              " 'Requirement already satisfied: pyyaml>=5.1 in /usr/local/lib/python3.12/dist-packages (from huggingface-hub<2.0,>=0.16.4->tokenizers->litellm) (6.0.3)',\n",
              " 'Requirement already satisfied: hf-xet<2.0.0,>=1.1.3 in /usr/local/lib/python3.12/dist-packages (from huggingface-hub<2.0,>=0.16.4->tokenizers->litellm) (1.1.10)',\n",
              " 'Requirement already satisfied: charset_normalizer<4,>=2 in /usr/local/lib/python3.12/dist-packages (from requests>=2.26.0->tiktoken>=0.7.0->litellm) (3.4.3)',\n",
              " 'Requirement already satisfied: urllib3<3,>=1.21.1 in /usr/local/lib/python3.12/dist-packages (from requests>=2.26.0->tiktoken>=0.7.0->litellm) (2.5.0)']"
            ]
          },
          "metadata": {},
          "execution_count": 8
        }
      ]
    },
    {
      "cell_type": "code",
      "source": [
        "from litellm import completion\n",
        "import os\n",
        "from google.colab import userdata\n",
        "\n",
        "os.environ[\"GROQ_API_KEY\"] = userdata.get(\"GROQ_API_KEY\")\n",
        "response = completion(\n",
        "    model=\"groq/llama-3.3-70b-versatile\",\n",
        "    messages=[\n",
        "        {\"role\": \"system\", \"content\": \"You are an expert software engineer.\"},\n",
        "        {\"role\": \"user\", \"content\": \"Write a function to swap keys and values in a dictionary.\"}\n",
        "    ],\n",
        "    max_tokens=128\n",
        ")\n",
        "print(response.choices[0].message.content)\n"
      ],
      "metadata": {
        "colab": {
          "base_uri": "https://localhost:8080/"
        },
        "id": "oRqp1zpZn96_",
        "outputId": "0acda68a-056c-4933-a85f-a87081244cba"
      },
      "execution_count": 20,
      "outputs": [
        {
          "output_type": "stream",
          "name": "stdout",
          "text": [
            "### Swapping Keys and Values in a Dictionary\n",
            "\n",
            "You can use the following Python function to swap keys and values in a dictionary. Note that this function assumes that the dictionary's values are unique. If there are duplicate values, the resulting dictionary will only keep the last key-value pair.\n",
            "\n",
            "#### Code\n",
            "```python\n",
            "def swap_keys_values(dictionary):\n",
            "    \"\"\"\n",
            "    Swaps keys and values in a dictionary.\n",
            "\n",
            "    Args:\n",
            "        dictionary (dict): The dictionary to swap.\n",
            "\n",
            "    Returns:\n",
            "        dict: A new dictionary with keys and values swapped.\n",
            "\n",
            "    Raises:\n",
            "        ValueError: If the dictionary's values are not unique.\n",
            "    \"\"\"\n",
            "    if\n"
          ]
        }
      ]
    },
    {
      "cell_type": "code",
      "source": [
        "from litellm import completion\n",
        "import os\n",
        "from google.colab import userdata\n",
        "\n",
        "os.environ[\"GROQ_API_KEY\"] = userdata.get(\"GROQ_API_KEY\")\n",
        "response = completion(\n",
        "    model=\"groq/llama-3.3-70b-versatile\",\n",
        "    messages=[\n",
        "        {\"role\": \"system\", \"content\": \"You are an expert cook.\"},\n",
        "        {\"role\": \"user\", \"content\": \"Give me steps to make chicken curry.\"}\n",
        "    ],\n",
        "    max_tokens=1000\n",
        ")\n",
        "print(response.choices[0].message.content)\n"
      ],
      "metadata": {
        "colab": {
          "base_uri": "https://localhost:8080/"
        },
        "id": "C_DWPhhqsFM7",
        "outputId": "2c433271-dbf3-4a57-b91d-2194ed00b498"
      },
      "execution_count": 22,
      "outputs": [
        {
          "output_type": "stream",
          "name": "stdout",
          "text": [
            "Delicious chicken curry. Here's a simple and flavorful recipe to make a classic Indian-style chicken curry:\n",
            "\n",
            "** Servings: 4-6 people**\n",
            "\n",
            "**Ingredients:**\n",
            "\n",
            "* 1 1/2 pounds boneless, skinless chicken breast or thighs, cut into 1-inch pieces\n",
            "* 2 medium onions, diced\n",
            "* 2 cloves of garlic, minced\n",
            "* 1 medium tomato, diced\n",
            "* 1 tablespoon grated fresh ginger\n",
            "* 1 teaspoon ground cumin\n",
            "* 1 teaspoon ground coriander\n",
            "* 1/2 teaspoon turmeric powder\n",
            "* 1/2 teaspoon red chili powder (or more to taste)\n",
            "* 1/2 teaspoon salt\n",
            "* 1/4 teaspoon black pepper\n",
            "* 2 tablespoons vegetable oil\n",
            "* 2 tablespoons tomato puree or canned crushed tomatoes\n",
            "* 1 cup chicken broth or water\n",
            "* Fresh cilantro leaves for garnish\n",
            "\n",
            "**Optional:**\n",
            "\n",
            "* 1/4 cup plain yogurt (for a creamier curry)\n",
            "* 1/4 cup chopped fresh cilantro (for added flavor)\n",
            "\n",
            "**Step-by-Step Instructions:**\n",
            "\n",
            "1. **Prepare the spice blend:** In a small bowl, mix together cumin, coriander, turmeric, chili powder, salt, and black pepper.\n",
            "2. **Heat oil in a pan:** Heat 1 tablespoon of oil in a large pan or Dutch oven over medium heat.\n",
            "3. **Sauté onions:** Add the diced onions to the pan and cook until they're translucent and lightly browned (about 5-7 minutes).\n",
            "4. **Add ginger and garlic:** Add the minced garlic and grated ginger to the pan and cook for 1 minute, stirring constantly.\n",
            "5. **Add the chicken:** Add the chicken pieces to the pan and cook until they're browned on all sides and cooked through (about 5-7 minutes).\n",
            "6. **Add the spice blend:** Add the prepared spice blend to the pan and cook for 1 minute, stirring constantly.\n",
            "7. **Add the tomato puree:** Add the tomato puree or canned crushed tomatoes to the pan and cook for 2-3 minutes, stirring constantly.\n",
            "8. **Add the chicken broth:** Add the chicken broth or water to the pan and bring the mixture to a simmer.\n",
            "9. **Reduce and thicken:** Reduce the heat to low and let the curry simmer for 10-15 minutes, stirring occasionally, until the sauce has thickened and the chicken is fully cooked.\n",
            "10. **Add yogurt (optional):** If using yogurt, stir it in just before serving to add a creamy texture to the curry.\n",
            "11. **Garnish with cilantro:** Garnish with fresh cilantro leaves and serve over rice, with naan bread, or with roti.\n",
            "\n",
            "**Tips and Variations:**\n",
            "\n",
            "* Use coconut milk or cream for a richer, creamier curry.\n",
            "* Add potatoes, carrots, or bell peppers to make a hearty and flavorful curry.\n",
            "* For a spicier curry, increase the amount of chili powder or add in some diced jalapeños.\n",
            "* Experiment with different types of protein, such as shrimp, beef, or lamb, for a unique twist on the classic recipe.\n",
            "\n",
            "Enjoy your delicious homemade chicken curry!\n"
          ]
        }
      ]
    },
    {
      "cell_type": "code",
      "source": [],
      "metadata": {
        "colab": {
          "base_uri": "https://localhost:8080/"
        },
        "id": "WM0ARtuSsUZi",
        "outputId": "98fae817-8d18-458e-ebab-0d1541e0ad31"
      },
      "execution_count": 30,
      "outputs": [
        {
          "output_type": "stream",
          "name": "stdout",
          "text": [
            "Delicious chicken curry. Here's a simple and flavorful recipe to make a classic Indian-style chicken curry:\n",
            "\n",
            "** Servings: 4-6 people**\n",
            "\n",
            "**Ingredients:**\n",
            "\n",
            "* 1 1/2 pounds boneless, skinless chicken breast or thighs, cut into 1-inch pieces\n",
            "* 2 medium onions, diced\n",
            "* 2 cloves of garlic, minced\n",
            "* 1 medium tomato, diced\n",
            "* 1 tablespoon grated fresh ginger\n",
            "* 1 teaspoon ground cumin\n",
            "* 1 teaspoon ground coriander\n",
            "* 1/2 teaspoon turmeric powder\n",
            "* 1/2 teaspoon red chili powder (or more to taste)\n",
            "* 1/2 teaspoon salt\n",
            "* 1/4 teaspoon black pepper\n",
            "* 2 tablespoons vegetable oil\n",
            "* 2 tablespoons tomato puree or canned crushed tomatoes\n",
            "* 1 cup chicken broth or water\n",
            "* Fresh cilantro leaves for garnish\n",
            "\n",
            "**Optional:**\n",
            "\n",
            "* 1/4 cup plain yogurt (for a creamier curry)\n",
            "* 1/4 cup chopped fresh cilantro (for added flavor)\n",
            "\n",
            "**Step-by-Step Instructions:**\n",
            "\n",
            "1. **Prepare the spice blend:** In a small bowl, mix together cumin, coriander, turmeric, chili powder, salt, and black pepper.\n",
            "2. **Heat oil in a pan:** Heat 1 tablespoon of oil in a large pan or Dutch oven over medium heat.\n",
            "3. **Sauté onions:** Add the diced onions to the pan and cook until they're translucent and lightly browned (about 5-7 minutes).\n",
            "4. **Add ginger and garlic:** Add the minced garlic and grated ginger to the pan and cook for 1 minute, stirring constantly.\n",
            "5. **Add the chicken:** Add the chicken pieces to the pan and cook until they're browned on all sides and cooked through (about 5-7 minutes).\n",
            "6. **Add the spice blend:** Add the prepared spice blend to the pan and cook for 1 minute, stirring constantly.\n",
            "7. **Add the tomato puree:** Add the tomato puree or canned crushed tomatoes to the pan and cook for 2-3 minutes, stirring constantly.\n",
            "8. **Add the chicken broth:** Add the chicken broth or water to the pan and bring the mixture to a simmer.\n",
            "9. **Reduce and thicken:** Reduce the heat to low and let the curry simmer for 10-15 minutes, stirring occasionally, until the sauce has thickened and the chicken is fully cooked.\n",
            "10. **Add yogurt (optional):** If using yogurt, stir it in just before serving to add a creamy texture to the curry.\n",
            "11. **Garnish with cilantro:** Garnish with fresh cilantro leaves and serve over rice, with naan bread, or with roti.\n",
            "\n",
            "**Tips and Variations:**\n",
            "\n",
            "* Use coconut milk or cream for a richer, creamier curry.\n",
            "* Add potatoes, carrots, or bell peppers to make a hearty and flavorful curry.\n",
            "* For a spicier curry, increase the amount of chili powder or add in some diced jalapeños.\n",
            "* Experiment with different types of protein, such as shrimp, beef, or lamb, for a unique twist on the classic recipe.\n",
            "\n",
            "Enjoy your delicious homemade chicken curry!\n"
          ]
        }
      ]
    }
  ]
}